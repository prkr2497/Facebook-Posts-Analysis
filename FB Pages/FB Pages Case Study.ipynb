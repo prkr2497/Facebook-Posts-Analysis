{
 "cells": [
  {
   "cell_type": "markdown",
   "metadata": {},
   "source": [
    "## Facebook Data Case Study\n",
    "\n",
    "### By Prakhar Gupta"
   ]
  },
  {
   "cell_type": "markdown",
   "metadata": {},
   "source": [
    "Please walk through the problem statement file and the 'Data' tab in the \"Sample Data\" workbook for reference.\n",
    "\n",
    "For this case study, the dataset \"Sample Data\" has ben already preprocessed, where the empty cells in the \"Post creation date\" and the \"Page ID\" columns were filled along with some formatting of the date (Year-month-day)\n",
    "\n",
    "Let's import the libraries "
   ]
  },
  {
   "cell_type": "code",
   "execution_count": 1,
   "metadata": {},
   "outputs": [],
   "source": [
    "import numpy as np \n",
    "import pandas as pd\n",
    "import matplotlib.pyplot as plt\n",
    "import seaborn as sns"
   ]
  },
  {
   "cell_type": "code",
   "execution_count": 2,
   "metadata": {},
   "outputs": [],
   "source": [
    "df = pd.read_excel(\"Sample Data.xlsx\")"
   ]
  },
  {
   "cell_type": "code",
   "execution_count": 3,
   "metadata": {},
   "outputs": [
    {
     "data": {
      "text/html": [
       "<div>\n",
       "<style scoped>\n",
       "    .dataframe tbody tr th:only-of-type {\n",
       "        vertical-align: middle;\n",
       "    }\n",
       "\n",
       "    .dataframe tbody tr th {\n",
       "        vertical-align: top;\n",
       "    }\n",
       "\n",
       "    .dataframe thead th {\n",
       "        text-align: right;\n",
       "    }\n",
       "</style>\n",
       "<table border=\"1\" class=\"dataframe\">\n",
       "  <thead>\n",
       "    <tr style=\"text-align: right;\">\n",
       "      <th></th>\n",
       "      <th>Post creation date</th>\n",
       "      <th>Page ID</th>\n",
       "      <th>Post ID</th>\n",
       "      <th>Post creation time of day</th>\n",
       "      <th>Video length (s)</th>\n",
       "      <th>Post reach</th>\n",
       "      <th>Post reactions</th>\n",
       "      <th>Post comments</th>\n",
       "      <th>Post shares</th>\n",
       "      <th>Video views</th>\n",
       "      <th>Completed video views</th>\n",
       "      <th>Avg. video view time (s)</th>\n",
       "    </tr>\n",
       "  </thead>\n",
       "  <tbody>\n",
       "    <tr>\n",
       "      <th>0</th>\n",
       "      <td>2021-06-01</td>\n",
       "      <td>FB003</td>\n",
       "      <td>FB003_743065</td>\n",
       "      <td>10:06:00</td>\n",
       "      <td>78.016</td>\n",
       "      <td>64539</td>\n",
       "      <td>1540</td>\n",
       "      <td>60</td>\n",
       "      <td>296</td>\n",
       "      <td>30983</td>\n",
       "      <td>3828</td>\n",
       "      <td>13.77</td>\n",
       "    </tr>\n",
       "    <tr>\n",
       "      <th>1</th>\n",
       "      <td>2021-06-01</td>\n",
       "      <td>FB003</td>\n",
       "      <td>FB003_855641</td>\n",
       "      <td>13:12:01</td>\n",
       "      <td>NaN</td>\n",
       "      <td>94086</td>\n",
       "      <td>2020</td>\n",
       "      <td>313</td>\n",
       "      <td>336</td>\n",
       "      <td>0</td>\n",
       "      <td>0</td>\n",
       "      <td>0.00</td>\n",
       "    </tr>\n",
       "    <tr>\n",
       "      <th>2</th>\n",
       "      <td>2021-06-01</td>\n",
       "      <td>FB003</td>\n",
       "      <td>FB003_859546</td>\n",
       "      <td>15:21:19</td>\n",
       "      <td>171.051</td>\n",
       "      <td>65406</td>\n",
       "      <td>1058</td>\n",
       "      <td>54</td>\n",
       "      <td>380</td>\n",
       "      <td>30116</td>\n",
       "      <td>725</td>\n",
       "      <td>14.23</td>\n",
       "    </tr>\n",
       "    <tr>\n",
       "      <th>3</th>\n",
       "      <td>2021-06-01</td>\n",
       "      <td>FB003</td>\n",
       "      <td>FB003_177590</td>\n",
       "      <td>16:01:00</td>\n",
       "      <td>296.128</td>\n",
       "      <td>271591</td>\n",
       "      <td>4521</td>\n",
       "      <td>425</td>\n",
       "      <td>2213</td>\n",
       "      <td>114324</td>\n",
       "      <td>8384</td>\n",
       "      <td>22.21</td>\n",
       "    </tr>\n",
       "    <tr>\n",
       "      <th>4</th>\n",
       "      <td>2021-06-01</td>\n",
       "      <td>FB003</td>\n",
       "      <td>FB003_173788</td>\n",
       "      <td>17:06:01</td>\n",
       "      <td>NaN</td>\n",
       "      <td>44813</td>\n",
       "      <td>772</td>\n",
       "      <td>88</td>\n",
       "      <td>157</td>\n",
       "      <td>0</td>\n",
       "      <td>0</td>\n",
       "      <td>0.00</td>\n",
       "    </tr>\n",
       "  </tbody>\n",
       "</table>\n",
       "</div>"
      ],
      "text/plain": [
       "  Post creation date Page ID       Post ID Post creation time of day  \\\n",
       "0         2021-06-01   FB003  FB003_743065                  10:06:00   \n",
       "1         2021-06-01   FB003  FB003_855641                  13:12:01   \n",
       "2         2021-06-01   FB003  FB003_859546                  15:21:19   \n",
       "3         2021-06-01   FB003  FB003_177590                  16:01:00   \n",
       "4         2021-06-01   FB003  FB003_173788                  17:06:01   \n",
       "\n",
       "   Video length (s)  Post reach  Post reactions  Post comments  Post shares  \\\n",
       "0            78.016       64539            1540             60          296   \n",
       "1               NaN       94086            2020            313          336   \n",
       "2           171.051       65406            1058             54          380   \n",
       "3           296.128      271591            4521            425         2213   \n",
       "4               NaN       44813             772             88          157   \n",
       "\n",
       "   Video views  Completed video views  Avg. video view time (s)  \n",
       "0        30983                   3828                     13.77  \n",
       "1            0                      0                      0.00  \n",
       "2        30116                    725                     14.23  \n",
       "3       114324                   8384                     22.21  \n",
       "4            0                      0                      0.00  "
      ]
     },
     "execution_count": 3,
     "metadata": {},
     "output_type": "execute_result"
    }
   ],
   "source": [
    "df.head()"
   ]
  },
  {
   "cell_type": "code",
   "execution_count": 4,
   "metadata": {},
   "outputs": [
    {
     "name": "stdout",
     "output_type": "stream",
     "text": [
      "<class 'pandas.core.frame.DataFrame'>\n",
      "RangeIndex: 1539 entries, 0 to 1538\n",
      "Data columns (total 12 columns):\n",
      " #   Column                     Non-Null Count  Dtype         \n",
      "---  ------                     --------------  -----         \n",
      " 0   Post creation date         1539 non-null   datetime64[ns]\n",
      " 1   Page ID                    1539 non-null   object        \n",
      " 2   Post ID                    1539 non-null   object        \n",
      " 3   Post creation time of day  1539 non-null   object        \n",
      " 4   Video length (s)           735 non-null    float64       \n",
      " 5   Post reach                 1539 non-null   int64         \n",
      " 6   Post reactions             1539 non-null   int64         \n",
      " 7   Post comments              1539 non-null   int64         \n",
      " 8   Post shares                1539 non-null   int64         \n",
      " 9   Video views                1539 non-null   int64         \n",
      " 10  Completed video views      1539 non-null   int64         \n",
      " 11  Avg. video view time (s)   1539 non-null   float64       \n",
      "dtypes: datetime64[ns](1), float64(2), int64(6), object(3)\n",
      "memory usage: 144.4+ KB\n"
     ]
    }
   ],
   "source": [
    "df.info()"
   ]
  },
  {
   "cell_type": "markdown",
   "metadata": {},
   "source": [
    "### Solution to Question 2: Returning most viewed posts for each page\n",
    "\n",
    "First, we will make a new field \"Cummulative Watch Time\" by multiplying the views and average view time fields. "
   ]
  },
  {
   "cell_type": "code",
   "execution_count": 5,
   "metadata": {},
   "outputs": [],
   "source": [
    "df['Cummulative Watch Time'] = df['Avg. video view time (s)'] * df['Video views']"
   ]
  },
  {
   "cell_type": "markdown",
   "metadata": {},
   "source": [
    "Identifying unique page IDs in the dataframe "
   ]
  },
  {
   "cell_type": "code",
   "execution_count": 6,
   "metadata": {},
   "outputs": [
    {
     "data": {
      "text/plain": [
       "array(['FB003', 'FB001', 'FB002', 'FB004'], dtype=object)"
      ]
     },
     "execution_count": 6,
     "metadata": {},
     "output_type": "execute_result"
    }
   ],
   "source": [
    "df['Page ID'].unique()"
   ]
  },
  {
   "cell_type": "markdown",
   "metadata": {},
   "source": [
    "#### Defining the \"most_watched_post\":\n",
    "\n",
    "The fuction takes in the Page ID and will return the Post ID, Creation Date, Time, Length of the video and Cummulative Watch Time in a dataframe format "
   ]
  },
  {
   "cell_type": "code",
   "execution_count": 9,
   "metadata": {},
   "outputs": [],
   "source": [
    "def most_watched_post(pages = df['Page ID'].unique()):\n",
    "    \n",
    "    df_list = []\n",
    "    \n",
    "    for pageid in pages:\n",
    "    \n",
    "        # Filtering the dataset W.R.T Page ID\n",
    "        d = df[df[\"Page ID\"] == pageid]\n",
    "    \n",
    "        # Further filtering W.R.T max Cummulative Watch Time\n",
    "        max_df =  d[d[\"Cummulative Watch Time\"] == d[\"Cummulative Watch Time\"].max()]\n",
    "    \n",
    "        # Appending the Dataframes to the list\n",
    "        df_list.append(max_df[['Page ID','Post ID','Post creation date','Post creation time of day','Video length (s)','Cummulative Watch Time']])\n",
    "    \n",
    "        # Concatenating all the DataFrames into one\n",
    "        final_df = pd.concat([df for df in df_list], axis=0, ignore_index=True)\n",
    "        \n",
    "    return final_df.sort_values('Page ID')"
   ]
  },
  {
   "cell_type": "code",
   "execution_count": 10,
   "metadata": {},
   "outputs": [
    {
     "data": {
      "text/html": [
       "<div>\n",
       "<style scoped>\n",
       "    .dataframe tbody tr th:only-of-type {\n",
       "        vertical-align: middle;\n",
       "    }\n",
       "\n",
       "    .dataframe tbody tr th {\n",
       "        vertical-align: top;\n",
       "    }\n",
       "\n",
       "    .dataframe thead th {\n",
       "        text-align: right;\n",
       "    }\n",
       "</style>\n",
       "<table border=\"1\" class=\"dataframe\">\n",
       "  <thead>\n",
       "    <tr style=\"text-align: right;\">\n",
       "      <th></th>\n",
       "      <th>Page ID</th>\n",
       "      <th>Post ID</th>\n",
       "      <th>Post creation date</th>\n",
       "      <th>Post creation time of day</th>\n",
       "      <th>Video length (s)</th>\n",
       "      <th>Cummulative Watch Time</th>\n",
       "    </tr>\n",
       "  </thead>\n",
       "  <tbody>\n",
       "    <tr>\n",
       "      <th>1</th>\n",
       "      <td>FB001</td>\n",
       "      <td>FB001_579376</td>\n",
       "      <td>2021-06-18</td>\n",
       "      <td>19:11:00</td>\n",
       "      <td>180.608</td>\n",
       "      <td>1.619899e+07</td>\n",
       "    </tr>\n",
       "    <tr>\n",
       "      <th>2</th>\n",
       "      <td>FB002</td>\n",
       "      <td>FB002_533099</td>\n",
       "      <td>2021-06-11</td>\n",
       "      <td>08:01:18</td>\n",
       "      <td>135.765</td>\n",
       "      <td>1.681556e+08</td>\n",
       "    </tr>\n",
       "    <tr>\n",
       "      <th>0</th>\n",
       "      <td>FB003</td>\n",
       "      <td>FB003_749362</td>\n",
       "      <td>2021-06-23</td>\n",
       "      <td>15:22:37</td>\n",
       "      <td>176.448</td>\n",
       "      <td>6.622553e+07</td>\n",
       "    </tr>\n",
       "    <tr>\n",
       "      <th>3</th>\n",
       "      <td>FB004</td>\n",
       "      <td>FB004_203587</td>\n",
       "      <td>2021-07-23</td>\n",
       "      <td>20:13:01</td>\n",
       "      <td>162.000</td>\n",
       "      <td>1.171663e+07</td>\n",
       "    </tr>\n",
       "  </tbody>\n",
       "</table>\n",
       "</div>"
      ],
      "text/plain": [
       "  Page ID       Post ID Post creation date Post creation time of day  \\\n",
       "1   FB001  FB001_579376         2021-06-18                  19:11:00   \n",
       "2   FB002  FB002_533099         2021-06-11                  08:01:18   \n",
       "0   FB003  FB003_749362         2021-06-23                  15:22:37   \n",
       "3   FB004  FB004_203587         2021-07-23                  20:13:01   \n",
       "\n",
       "   Video length (s)  Cummulative Watch Time  \n",
       "1           180.608            1.619899e+07  \n",
       "2           135.765            1.681556e+08  \n",
       "0           176.448            6.622553e+07  \n",
       "3           162.000            1.171663e+07  "
      ]
     },
     "execution_count": 10,
     "metadata": {},
     "output_type": "execute_result"
    }
   ],
   "source": [
    "most_watched_post()"
   ]
  },
  {
   "cell_type": "code",
   "execution_count": 11,
   "metadata": {},
   "outputs": [
    {
     "data": {
      "text/plain": [
       "'FB003'"
      ]
     },
     "execution_count": 11,
     "metadata": {},
     "output_type": "execute_result"
    }
   ],
   "source": [
    "df['Page ID'].unique()[0]"
   ]
  },
  {
   "cell_type": "markdown",
   "metadata": {},
   "source": [
    "#### Most Shared Post: \n",
    "\n",
    "Furthermore, we can repeat the aforementioned step for most shared post as well."
   ]
  },
  {
   "cell_type": "code",
   "execution_count": 12,
   "metadata": {},
   "outputs": [],
   "source": [
    "def most_shared_post(pages = df['Page ID'].unique()):\n",
    "\n",
    "    df_list =[]    \n",
    "    \n",
    "    for pageid in pages:\n",
    "        \n",
    "        # Filtering the dataset W.R.T Page ID\n",
    "        d = df[df[\"Page ID\"] == pageid]\n",
    "        \n",
    "        # Further filtering W.R.T max Cummulative Watch Time\n",
    "        max_df =  d[d[\"Post shares\"] == d[\"Post shares\"].max()]\n",
    "    \n",
    "        # Appending the Dataframes to the list\n",
    "        df_list.append(max_df[['Page ID','Post ID','Post creation date','Post creation time of day','Post shares','Post comments','Post reach','Post reactions']])\n",
    "    \n",
    "        # Concatenating all the DataFrames into one\n",
    "        final_df = pd.concat([df for df in df_list], axis=0, ignore_index=True)\n",
    "        \n",
    "    return final_df.sort_values('Page ID')   "
   ]
  },
  {
   "cell_type": "code",
   "execution_count": 13,
   "metadata": {},
   "outputs": [
    {
     "data": {
      "text/html": [
       "<div>\n",
       "<style scoped>\n",
       "    .dataframe tbody tr th:only-of-type {\n",
       "        vertical-align: middle;\n",
       "    }\n",
       "\n",
       "    .dataframe tbody tr th {\n",
       "        vertical-align: top;\n",
       "    }\n",
       "\n",
       "    .dataframe thead th {\n",
       "        text-align: right;\n",
       "    }\n",
       "</style>\n",
       "<table border=\"1\" class=\"dataframe\">\n",
       "  <thead>\n",
       "    <tr style=\"text-align: right;\">\n",
       "      <th></th>\n",
       "      <th>Page ID</th>\n",
       "      <th>Post ID</th>\n",
       "      <th>Post creation date</th>\n",
       "      <th>Post creation time of day</th>\n",
       "      <th>Post shares</th>\n",
       "      <th>Post comments</th>\n",
       "      <th>Post reach</th>\n",
       "      <th>Post reactions</th>\n",
       "    </tr>\n",
       "  </thead>\n",
       "  <tbody>\n",
       "    <tr>\n",
       "      <th>1</th>\n",
       "      <td>FB001</td>\n",
       "      <td>FB001_579376</td>\n",
       "      <td>2021-06-18</td>\n",
       "      <td>19:11:00</td>\n",
       "      <td>6754</td>\n",
       "      <td>757</td>\n",
       "      <td>2174204</td>\n",
       "      <td>24259</td>\n",
       "    </tr>\n",
       "    <tr>\n",
       "      <th>2</th>\n",
       "      <td>FB002</td>\n",
       "      <td>FB002_292476</td>\n",
       "      <td>2021-06-25</td>\n",
       "      <td>21:09:00</td>\n",
       "      <td>44530</td>\n",
       "      <td>16534</td>\n",
       "      <td>4367577</td>\n",
       "      <td>61772</td>\n",
       "    </tr>\n",
       "    <tr>\n",
       "      <th>0</th>\n",
       "      <td>FB003</td>\n",
       "      <td>FB003_648055</td>\n",
       "      <td>2021-07-13</td>\n",
       "      <td>08:11:00</td>\n",
       "      <td>97974</td>\n",
       "      <td>750</td>\n",
       "      <td>148657</td>\n",
       "      <td>9827</td>\n",
       "    </tr>\n",
       "    <tr>\n",
       "      <th>3</th>\n",
       "      <td>FB004</td>\n",
       "      <td>FB004_604343</td>\n",
       "      <td>2021-06-24</td>\n",
       "      <td>20:05:00</td>\n",
       "      <td>1742</td>\n",
       "      <td>864</td>\n",
       "      <td>190014</td>\n",
       "      <td>2273</td>\n",
       "    </tr>\n",
       "  </tbody>\n",
       "</table>\n",
       "</div>"
      ],
      "text/plain": [
       "  Page ID       Post ID Post creation date Post creation time of day  \\\n",
       "1   FB001  FB001_579376         2021-06-18                  19:11:00   \n",
       "2   FB002  FB002_292476         2021-06-25                  21:09:00   \n",
       "0   FB003  FB003_648055         2021-07-13                  08:11:00   \n",
       "3   FB004  FB004_604343         2021-06-24                  20:05:00   \n",
       "\n",
       "   Post shares  Post comments  Post reach  Post reactions  \n",
       "1         6754            757     2174204           24259  \n",
       "2        44530          16534     4367577           61772  \n",
       "0        97974            750      148657            9827  \n",
       "3         1742            864      190014            2273  "
      ]
     },
     "execution_count": 13,
     "metadata": {},
     "output_type": "execute_result"
    }
   ],
   "source": [
    "most_shared_post()"
   ]
  },
  {
   "cell_type": "markdown",
   "metadata": {},
   "source": [
    "### Solution to Question 3: Hour of the day with min shares per post\n",
    "\n",
    "We need to filter the dataframe where the 'Post shares' column is minimum and return the post creation time"
   ]
  },
  {
   "cell_type": "code",
   "execution_count": 14,
   "metadata": {},
   "outputs": [
    {
     "data": {
      "text/plain": [
       "563    20:12:00\n",
       "Name: Post creation time of day, dtype: object"
      ]
     },
     "execution_count": 14,
     "metadata": {},
     "output_type": "execute_result"
    }
   ],
   "source": [
    "min_post_share = df[df['Post shares'] == df['Post shares'].min()]['Post creation time of day']\n",
    "min_post_share"
   ]
  },
  {
   "cell_type": "code",
   "execution_count": 15,
   "metadata": {},
   "outputs": [
    {
     "data": {
      "text/plain": [
       "pandas.core.series.Series"
      ]
     },
     "execution_count": 15,
     "metadata": {},
     "output_type": "execute_result"
    }
   ],
   "source": [
    "type(min_post_share)"
   ]
  },
  {
   "cell_type": "code",
   "execution_count": 16,
   "metadata": {},
   "outputs": [
    {
     "data": {
      "text/plain": [
       "datetime.time(20, 12)"
      ]
     },
     "execution_count": 16,
     "metadata": {},
     "output_type": "execute_result"
    }
   ],
   "source": [
    "# Since min_post_share is Series, returning the post creation time will be done in the following manner\n",
    "min_post_share[min_post_share.index[0]]"
   ]
  },
  {
   "cell_type": "code",
   "execution_count": 17,
   "metadata": {},
   "outputs": [
    {
     "data": {
      "text/plain": [
       "20"
      ]
     },
     "execution_count": 17,
     "metadata": {},
     "output_type": "execute_result"
    }
   ],
   "source": [
    "min_post_share[min_post_share.index[0]].hour"
   ]
  },
  {
   "cell_type": "markdown",
   "metadata": {},
   "source": [
    "So, the answer to question 3 is 20"
   ]
  },
  {
   "cell_type": "markdown",
   "metadata": {},
   "source": [
    "#### Supplementary: Creating a function to return the above parameter for each day\n",
    "\n",
    "While we returned the overall minimum shared post's hour of posting, we can find the same for each day as well.\n",
    " \n",
    "- First, we'll create a dictionary matching each date to its corressponding day no, starting from June 1st. \n",
    "- We will then use the 'map' method to make a new column in our original dataframe containing day no(s), by using the above dictonary.\n",
    "- Finally, we shall write a function to return a separate DataFrame matching the required metric for each day. "
   ]
  },
  {
   "cell_type": "code",
   "execution_count": 18,
   "metadata": {},
   "outputs": [
    {
     "data": {
      "text/plain": [
       "Timestamp('2021-06-01 00:00:00')"
      ]
     },
     "execution_count": 18,
     "metadata": {},
     "output_type": "execute_result"
    }
   ],
   "source": [
    "df['Post creation date'][0]"
   ]
  },
  {
   "cell_type": "code",
   "execution_count": 19,
   "metadata": {},
   "outputs": [
    {
     "data": {
      "text/plain": [
       "61"
      ]
     },
     "execution_count": 19,
     "metadata": {},
     "output_type": "execute_result"
    }
   ],
   "source": [
    "# Creating the Dictionary\n",
    "\n",
    "counter = 0\n",
    "date_dict = {}\n",
    "\n",
    "for i in range(len(df)):\n",
    "    \n",
    "    if df['Post creation date'][i] not in date_dict:\n",
    "        date_dict[df['Post creation date'][i]] = counter + 1\n",
    "        counter += 1\n",
    "\n",
    "date_dict[df['Post creation date'][1538]]        "
   ]
  },
  {
   "cell_type": "code",
   "execution_count": 20,
   "metadata": {},
   "outputs": [
    {
     "name": "stdout",
     "output_type": "stream",
     "text": [
      "<class 'pandas.core.frame.DataFrame'>\n",
      "RangeIndex: 1539 entries, 0 to 1538\n",
      "Data columns (total 14 columns):\n",
      " #   Column                     Non-Null Count  Dtype         \n",
      "---  ------                     --------------  -----         \n",
      " 0   Post creation date         1539 non-null   datetime64[ns]\n",
      " 1   Page ID                    1539 non-null   object        \n",
      " 2   Post ID                    1539 non-null   object        \n",
      " 3   Post creation time of day  1539 non-null   object        \n",
      " 4   Video length (s)           735 non-null    float64       \n",
      " 5   Post reach                 1539 non-null   int64         \n",
      " 6   Post reactions             1539 non-null   int64         \n",
      " 7   Post comments              1539 non-null   int64         \n",
      " 8   Post shares                1539 non-null   int64         \n",
      " 9   Video views                1539 non-null   int64         \n",
      " 10  Completed video views      1539 non-null   int64         \n",
      " 11  Avg. video view time (s)   1539 non-null   float64       \n",
      " 12  Cummulative Watch Time     1539 non-null   float64       \n",
      " 13  Day No.                    1539 non-null   int64         \n",
      "dtypes: datetime64[ns](1), float64(3), int64(7), object(3)\n",
      "memory usage: 168.5+ KB\n"
     ]
    }
   ],
   "source": [
    "# Adding the 'Day No.' column\n",
    "\n",
    "df['Day No.'] = df['Post creation date'].map(date_dict)\n",
    "\n",
    "df.info()"
   ]
  },
  {
   "cell_type": "code",
   "execution_count": 21,
   "metadata": {},
   "outputs": [],
   "source": [
    "# Writing the Function\n",
    "\n",
    "def least_shared_hour_per_day(data=df):\n",
    "    \n",
    "    #making an empty list which will be filled with the hours\n",
    "    hours = []\n",
    "\n",
    "    for day in range(1, 62):\n",
    "        \n",
    "        #Filtering the df w.r.t each day\n",
    "        filtered_df = data[data['Day No.'] == day]\n",
    "        \n",
    "        # Identifying the least shared post for the day\n",
    "        min_shared_post = filtered_df[filtered_df['Post shares'] == filtered_df['Post shares'].min()]['Post creation time of day']\n",
    "        \n",
    "        # Returning the hour corressponding to the least shared post\n",
    "        hour = min_shared_post[min_shared_post.index[0]].hour\n",
    "        \n",
    "        # Appending to the list\n",
    "        hours.append(hour)\n",
    "        \n",
    "    return pd.DataFrame({'Day No.':list(range(1, 62)), 'Hour':hours}) "
   ]
  },
  {
   "cell_type": "code",
   "execution_count": 22,
   "metadata": {},
   "outputs": [
    {
     "data": {
      "text/html": [
       "<div>\n",
       "<style scoped>\n",
       "    .dataframe tbody tr th:only-of-type {\n",
       "        vertical-align: middle;\n",
       "    }\n",
       "\n",
       "    .dataframe tbody tr th {\n",
       "        vertical-align: top;\n",
       "    }\n",
       "\n",
       "    .dataframe thead th {\n",
       "        text-align: right;\n",
       "    }\n",
       "</style>\n",
       "<table border=\"1\" class=\"dataframe\">\n",
       "  <thead>\n",
       "    <tr style=\"text-align: right;\">\n",
       "      <th></th>\n",
       "      <th>Hour</th>\n",
       "    </tr>\n",
       "    <tr>\n",
       "      <th>Day No.</th>\n",
       "      <th></th>\n",
       "    </tr>\n",
       "  </thead>\n",
       "  <tbody>\n",
       "    <tr>\n",
       "      <th>1</th>\n",
       "      <td>19</td>\n",
       "    </tr>\n",
       "    <tr>\n",
       "      <th>2</th>\n",
       "      <td>17</td>\n",
       "    </tr>\n",
       "    <tr>\n",
       "      <th>3</th>\n",
       "      <td>17</td>\n",
       "    </tr>\n",
       "    <tr>\n",
       "      <th>4</th>\n",
       "      <td>11</td>\n",
       "    </tr>\n",
       "    <tr>\n",
       "      <th>5</th>\n",
       "      <td>13</td>\n",
       "    </tr>\n",
       "  </tbody>\n",
       "</table>\n",
       "</div>"
      ],
      "text/plain": [
       "         Hour\n",
       "Day No.      \n",
       "1          19\n",
       "2          17\n",
       "3          17\n",
       "4          11\n",
       "5          13"
      ]
     },
     "execution_count": 22,
     "metadata": {},
     "output_type": "execute_result"
    }
   ],
   "source": [
    "D = least_shared_hour_per_day().set_index('Day No.')\n",
    "D.head()"
   ]
  },
  {
   "cell_type": "markdown",
   "metadata": {},
   "source": [
    "### Solution to Question 4: Creating a modified dataframe containing a field lbelling the post as Video on Non-Video\n",
    "\n",
    "A post can be classified as Video or Non-video simply by checking whether it has any value for the metrics related to the videos or not. A non-video post will have a null value for video length field\n",
    "\n",
    "Here, we are assigning the label of \"Non-Video Post\" if it has zero views as all the \"Video Posts\" have some value in this field.  "
   ]
  },
  {
   "cell_type": "code",
   "execution_count": 23,
   "metadata": {},
   "outputs": [],
   "source": [
    "df['Post Type'] = df['Video views'].apply(lambda x: 'Non-Video Post' if x==0 else 'Video Post')"
   ]
  },
  {
   "cell_type": "code",
   "execution_count": 24,
   "metadata": {},
   "outputs": [
    {
     "data": {
      "text/html": [
       "<div>\n",
       "<style scoped>\n",
       "    .dataframe tbody tr th:only-of-type {\n",
       "        vertical-align: middle;\n",
       "    }\n",
       "\n",
       "    .dataframe tbody tr th {\n",
       "        vertical-align: top;\n",
       "    }\n",
       "\n",
       "    .dataframe thead th {\n",
       "        text-align: right;\n",
       "    }\n",
       "</style>\n",
       "<table border=\"1\" class=\"dataframe\">\n",
       "  <thead>\n",
       "    <tr style=\"text-align: right;\">\n",
       "      <th></th>\n",
       "      <th>Post creation date</th>\n",
       "      <th>Page ID</th>\n",
       "      <th>Post ID</th>\n",
       "      <th>Post creation time of day</th>\n",
       "      <th>Video length (s)</th>\n",
       "      <th>Post reach</th>\n",
       "      <th>Post reactions</th>\n",
       "      <th>Post comments</th>\n",
       "      <th>Post shares</th>\n",
       "      <th>Video views</th>\n",
       "      <th>Completed video views</th>\n",
       "      <th>Avg. video view time (s)</th>\n",
       "      <th>Cummulative Watch Time</th>\n",
       "      <th>Day No.</th>\n",
       "      <th>Post Type</th>\n",
       "    </tr>\n",
       "  </thead>\n",
       "  <tbody>\n",
       "    <tr>\n",
       "      <th>0</th>\n",
       "      <td>2021-06-01</td>\n",
       "      <td>FB003</td>\n",
       "      <td>FB003_743065</td>\n",
       "      <td>10:06:00</td>\n",
       "      <td>78.016</td>\n",
       "      <td>64539</td>\n",
       "      <td>1540</td>\n",
       "      <td>60</td>\n",
       "      <td>296</td>\n",
       "      <td>30983</td>\n",
       "      <td>3828</td>\n",
       "      <td>13.77</td>\n",
       "      <td>426635.91</td>\n",
       "      <td>1</td>\n",
       "      <td>Video Post</td>\n",
       "    </tr>\n",
       "    <tr>\n",
       "      <th>1</th>\n",
       "      <td>2021-06-01</td>\n",
       "      <td>FB003</td>\n",
       "      <td>FB003_855641</td>\n",
       "      <td>13:12:01</td>\n",
       "      <td>NaN</td>\n",
       "      <td>94086</td>\n",
       "      <td>2020</td>\n",
       "      <td>313</td>\n",
       "      <td>336</td>\n",
       "      <td>0</td>\n",
       "      <td>0</td>\n",
       "      <td>0.00</td>\n",
       "      <td>0.00</td>\n",
       "      <td>1</td>\n",
       "      <td>Non-Video Post</td>\n",
       "    </tr>\n",
       "    <tr>\n",
       "      <th>2</th>\n",
       "      <td>2021-06-01</td>\n",
       "      <td>FB003</td>\n",
       "      <td>FB003_859546</td>\n",
       "      <td>15:21:19</td>\n",
       "      <td>171.051</td>\n",
       "      <td>65406</td>\n",
       "      <td>1058</td>\n",
       "      <td>54</td>\n",
       "      <td>380</td>\n",
       "      <td>30116</td>\n",
       "      <td>725</td>\n",
       "      <td>14.23</td>\n",
       "      <td>428550.68</td>\n",
       "      <td>1</td>\n",
       "      <td>Video Post</td>\n",
       "    </tr>\n",
       "    <tr>\n",
       "      <th>3</th>\n",
       "      <td>2021-06-01</td>\n",
       "      <td>FB003</td>\n",
       "      <td>FB003_177590</td>\n",
       "      <td>16:01:00</td>\n",
       "      <td>296.128</td>\n",
       "      <td>271591</td>\n",
       "      <td>4521</td>\n",
       "      <td>425</td>\n",
       "      <td>2213</td>\n",
       "      <td>114324</td>\n",
       "      <td>8384</td>\n",
       "      <td>22.21</td>\n",
       "      <td>2539136.04</td>\n",
       "      <td>1</td>\n",
       "      <td>Video Post</td>\n",
       "    </tr>\n",
       "    <tr>\n",
       "      <th>4</th>\n",
       "      <td>2021-06-01</td>\n",
       "      <td>FB003</td>\n",
       "      <td>FB003_173788</td>\n",
       "      <td>17:06:01</td>\n",
       "      <td>NaN</td>\n",
       "      <td>44813</td>\n",
       "      <td>772</td>\n",
       "      <td>88</td>\n",
       "      <td>157</td>\n",
       "      <td>0</td>\n",
       "      <td>0</td>\n",
       "      <td>0.00</td>\n",
       "      <td>0.00</td>\n",
       "      <td>1</td>\n",
       "      <td>Non-Video Post</td>\n",
       "    </tr>\n",
       "  </tbody>\n",
       "</table>\n",
       "</div>"
      ],
      "text/plain": [
       "  Post creation date Page ID       Post ID Post creation time of day  \\\n",
       "0         2021-06-01   FB003  FB003_743065                  10:06:00   \n",
       "1         2021-06-01   FB003  FB003_855641                  13:12:01   \n",
       "2         2021-06-01   FB003  FB003_859546                  15:21:19   \n",
       "3         2021-06-01   FB003  FB003_177590                  16:01:00   \n",
       "4         2021-06-01   FB003  FB003_173788                  17:06:01   \n",
       "\n",
       "   Video length (s)  Post reach  Post reactions  Post comments  Post shares  \\\n",
       "0            78.016       64539            1540             60          296   \n",
       "1               NaN       94086            2020            313          336   \n",
       "2           171.051       65406            1058             54          380   \n",
       "3           296.128      271591            4521            425         2213   \n",
       "4               NaN       44813             772             88          157   \n",
       "\n",
       "   Video views  Completed video views  Avg. video view time (s)  \\\n",
       "0        30983                   3828                     13.77   \n",
       "1            0                      0                      0.00   \n",
       "2        30116                    725                     14.23   \n",
       "3       114324                   8384                     22.21   \n",
       "4            0                      0                      0.00   \n",
       "\n",
       "   Cummulative Watch Time  Day No.       Post Type  \n",
       "0               426635.91        1      Video Post  \n",
       "1                    0.00        1  Non-Video Post  \n",
       "2               428550.68        1      Video Post  \n",
       "3              2539136.04        1      Video Post  \n",
       "4                    0.00        1  Non-Video Post  "
      ]
     },
     "execution_count": 24,
     "metadata": {},
     "output_type": "execute_result"
    }
   ],
   "source": [
    "df.head()"
   ]
  },
  {
   "cell_type": "markdown",
   "metadata": {},
   "source": [
    "Since we can only compare the two types of posts in terms of reach, reactions, comments and shares, we don't need other metrics limited to video posts."
   ]
  },
  {
   "cell_type": "code",
   "execution_count": 25,
   "metadata": {},
   "outputs": [
    {
     "data": {
      "text/html": [
       "<div>\n",
       "<style scoped>\n",
       "    .dataframe tbody tr th:only-of-type {\n",
       "        vertical-align: middle;\n",
       "    }\n",
       "\n",
       "    .dataframe tbody tr th {\n",
       "        vertical-align: top;\n",
       "    }\n",
       "\n",
       "    .dataframe thead th {\n",
       "        text-align: right;\n",
       "    }\n",
       "</style>\n",
       "<table border=\"1\" class=\"dataframe\">\n",
       "  <thead>\n",
       "    <tr style=\"text-align: right;\">\n",
       "      <th></th>\n",
       "      <th>Post creation date</th>\n",
       "      <th>Page ID</th>\n",
       "      <th>Post ID</th>\n",
       "      <th>Post creation time of day</th>\n",
       "      <th>Post reach</th>\n",
       "      <th>Post reactions</th>\n",
       "      <th>Post comments</th>\n",
       "      <th>Post shares</th>\n",
       "      <th>Day No.</th>\n",
       "      <th>Post Type</th>\n",
       "    </tr>\n",
       "  </thead>\n",
       "  <tbody>\n",
       "    <tr>\n",
       "      <th>0</th>\n",
       "      <td>2021-06-01</td>\n",
       "      <td>FB003</td>\n",
       "      <td>FB003_743065</td>\n",
       "      <td>10:06:00</td>\n",
       "      <td>64539</td>\n",
       "      <td>1540</td>\n",
       "      <td>60</td>\n",
       "      <td>296</td>\n",
       "      <td>1</td>\n",
       "      <td>Video Post</td>\n",
       "    </tr>\n",
       "    <tr>\n",
       "      <th>1</th>\n",
       "      <td>2021-06-01</td>\n",
       "      <td>FB003</td>\n",
       "      <td>FB003_855641</td>\n",
       "      <td>13:12:01</td>\n",
       "      <td>94086</td>\n",
       "      <td>2020</td>\n",
       "      <td>313</td>\n",
       "      <td>336</td>\n",
       "      <td>1</td>\n",
       "      <td>Non-Video Post</td>\n",
       "    </tr>\n",
       "    <tr>\n",
       "      <th>2</th>\n",
       "      <td>2021-06-01</td>\n",
       "      <td>FB003</td>\n",
       "      <td>FB003_859546</td>\n",
       "      <td>15:21:19</td>\n",
       "      <td>65406</td>\n",
       "      <td>1058</td>\n",
       "      <td>54</td>\n",
       "      <td>380</td>\n",
       "      <td>1</td>\n",
       "      <td>Video Post</td>\n",
       "    </tr>\n",
       "    <tr>\n",
       "      <th>3</th>\n",
       "      <td>2021-06-01</td>\n",
       "      <td>FB003</td>\n",
       "      <td>FB003_177590</td>\n",
       "      <td>16:01:00</td>\n",
       "      <td>271591</td>\n",
       "      <td>4521</td>\n",
       "      <td>425</td>\n",
       "      <td>2213</td>\n",
       "      <td>1</td>\n",
       "      <td>Video Post</td>\n",
       "    </tr>\n",
       "    <tr>\n",
       "      <th>4</th>\n",
       "      <td>2021-06-01</td>\n",
       "      <td>FB003</td>\n",
       "      <td>FB003_173788</td>\n",
       "      <td>17:06:01</td>\n",
       "      <td>44813</td>\n",
       "      <td>772</td>\n",
       "      <td>88</td>\n",
       "      <td>157</td>\n",
       "      <td>1</td>\n",
       "      <td>Non-Video Post</td>\n",
       "    </tr>\n",
       "  </tbody>\n",
       "</table>\n",
       "</div>"
      ],
      "text/plain": [
       "  Post creation date Page ID       Post ID Post creation time of day  \\\n",
       "0         2021-06-01   FB003  FB003_743065                  10:06:00   \n",
       "1         2021-06-01   FB003  FB003_855641                  13:12:01   \n",
       "2         2021-06-01   FB003  FB003_859546                  15:21:19   \n",
       "3         2021-06-01   FB003  FB003_177590                  16:01:00   \n",
       "4         2021-06-01   FB003  FB003_173788                  17:06:01   \n",
       "\n",
       "   Post reach  Post reactions  Post comments  Post shares  Day No.  \\\n",
       "0       64539            1540             60          296        1   \n",
       "1       94086            2020            313          336        1   \n",
       "2       65406            1058             54          380        1   \n",
       "3      271591            4521            425         2213        1   \n",
       "4       44813             772             88          157        1   \n",
       "\n",
       "        Post Type  \n",
       "0      Video Post  \n",
       "1  Non-Video Post  \n",
       "2      Video Post  \n",
       "3      Video Post  \n",
       "4  Non-Video Post  "
      ]
     },
     "execution_count": 25,
     "metadata": {},
     "output_type": "execute_result"
    }
   ],
   "source": [
    "new_df = df.drop(['Video length (s)','Video views','Completed video views',\n",
    "                 'Avg. video view time (s)', 'Cummulative Watch Time'], axis=1)\n",
    "\n",
    "new_df.head()"
   ]
  },
  {
   "cell_type": "markdown",
   "metadata": {},
   "source": [
    "#### Exporting this modified dataframe to an excel file, where a Pivot Chart will be made \n",
    "\n",
    "Note: The dataframes have already been exported, hence the codes to export the data will return an error"
   ]
  },
  {
   "cell_type": "code",
   "execution_count": 26,
   "metadata": {},
   "outputs": [],
   "source": [
    "# new_df.to_excel('Modified Data.xlsx', index=False)"
   ]
  },
  {
   "cell_type": "markdown",
   "metadata": {},
   "source": [
    "Cross checking whether there are any video posts with zero views "
   ]
  },
  {
   "cell_type": "code",
   "execution_count": 27,
   "metadata": {},
   "outputs": [],
   "source": [
    "video_posts = df[df['Video length (s)'].notnull()]\n",
    "non_video_posts = df[df['Video length (s)'].isnull()]"
   ]
  },
  {
   "cell_type": "code",
   "execution_count": 28,
   "metadata": {
    "scrolled": true
   },
   "outputs": [
    {
     "data": {
      "text/html": [
       "<div>\n",
       "<style scoped>\n",
       "    .dataframe tbody tr th:only-of-type {\n",
       "        vertical-align: middle;\n",
       "    }\n",
       "\n",
       "    .dataframe tbody tr th {\n",
       "        vertical-align: top;\n",
       "    }\n",
       "\n",
       "    .dataframe thead th {\n",
       "        text-align: right;\n",
       "    }\n",
       "</style>\n",
       "<table border=\"1\" class=\"dataframe\">\n",
       "  <thead>\n",
       "    <tr style=\"text-align: right;\">\n",
       "      <th></th>\n",
       "      <th>Post creation date</th>\n",
       "      <th>Page ID</th>\n",
       "      <th>Post ID</th>\n",
       "      <th>Post creation time of day</th>\n",
       "      <th>Video length (s)</th>\n",
       "      <th>Post reach</th>\n",
       "      <th>Post reactions</th>\n",
       "      <th>Post comments</th>\n",
       "      <th>Post shares</th>\n",
       "      <th>Video views</th>\n",
       "      <th>Completed video views</th>\n",
       "      <th>Avg. video view time (s)</th>\n",
       "      <th>Cummulative Watch Time</th>\n",
       "      <th>Day No.</th>\n",
       "      <th>Post Type</th>\n",
       "    </tr>\n",
       "  </thead>\n",
       "  <tbody>\n",
       "  </tbody>\n",
       "</table>\n",
       "</div>"
      ],
      "text/plain": [
       "Empty DataFrame\n",
       "Columns: [Post creation date, Page ID, Post ID, Post creation time of day, Video length (s), Post reach, Post reactions, Post comments, Post shares, Video views, Completed video views, Avg. video view time (s), Cummulative Watch Time, Day No., Post Type]\n",
       "Index: []"
      ]
     },
     "execution_count": 28,
     "metadata": {},
     "output_type": "execute_result"
    }
   ],
   "source": [
    "video_posts[video_posts['Video views']==0]"
   ]
  },
  {
   "cell_type": "markdown",
   "metadata": {},
   "source": [
    "There are no such video posts!\n",
    "\n",
    "Let's export these dataframes as well"
   ]
  },
  {
   "cell_type": "code",
   "execution_count": 29,
   "metadata": {},
   "outputs": [],
   "source": [
    "# video_posts.to_excel('Video Posts.xlsx', index=False)\n",
    "# non_video_posts.to_excel('Non-Video Posts.xlsx', index=False)"
   ]
  },
  {
   "cell_type": "markdown",
   "metadata": {},
   "source": [
    "#### That's it for this code! Everything else is done in excel."
   ]
  }
 ],
 "metadata": {
  "kernelspec": {
   "display_name": "Python 3",
   "language": "python",
   "name": "python3"
  },
  "language_info": {
   "codemirror_mode": {
    "name": "ipython",
    "version": 3
   },
   "file_extension": ".py",
   "mimetype": "text/x-python",
   "name": "python",
   "nbconvert_exporter": "python",
   "pygments_lexer": "ipython3",
   "version": "3.8.5"
  }
 },
 "nbformat": 4,
 "nbformat_minor": 4
}
